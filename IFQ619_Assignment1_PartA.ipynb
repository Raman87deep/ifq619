{
  "cells": [
    {
      "cell_type": "markdown",
      "metadata": {
        "id": "view-in-github",
        "colab_type": "text"
      },
      "source": [
        "<a href=\"https://colab.research.google.com/github/Raman87deep/ifq619/blob/master/IFQ619_Assignment1_PartA.ipynb\" target=\"_parent\"><img src=\"https://colab.research.google.com/assets/colab-badge.svg\" alt=\"Open In Colab\"/></a>"
      ]
    },
    {
      "cell_type": "markdown",
      "metadata": {
        "id": "b977a25d"
      },
      "source": [
        "# Part A — Computational Processing and Data Analysis Techniques\n",
        "\n",
        "This section addresses **Criterion 1 (Verification)** and **Criterion 2 (Basic techniques)**."
      ],
      "id": "b977a25d"
    },
    {
      "cell_type": "code",
      "source": [
        "# Complete the following cell with your details and run to produce your personalised header for this assignment\n",
        "\n",
        "from IPython.core.display import display, HTML\n",
        "\n",
        "first_name = \"Ramandeep\"\n",
        "last_name = \"Kaur\"\n",
        "student_number = \"12614246\"\n",
        "\n",
        "personal_header = \"<h1>\"+first_name+\" \"+last_name+\" (\"+student_number+\")</h1>\"\n",
        "display(HTML(personal_header))"
      ],
      "metadata": {
        "colab": {
          "base_uri": "https://localhost:8080/",
          "height": 74
        },
        "id": "xd1P9InES4Ro",
        "outputId": "d5a270da-79f8-475b-8f7f-108aae74539a"
      },
      "id": "xd1P9InES4Ro",
      "execution_count": null,
      "outputs": [
        {
          "output_type": "display_data",
          "data": {
            "text/plain": [
              "<IPython.core.display.HTML object>"
            ],
            "text/html": [
              "<h1>Ramandeep Kaur (12614246)</h1>"
            ]
          },
          "metadata": {}
        }
      ]
    },
    {
      "cell_type": "markdown",
      "metadata": {
        "id": "a6cfb9b8"
      },
      "source": [
        "### Handling Missing Values\n",
        "\n",
        "As seen from the output above, several columns contain missing values. Before proceeding with the analysis, it's important to address these missing values. Depending on the column and the analysis to be performed, different strategies can be used, such as:\n",
        "\n",
        "*   **Imputation:** Filling missing values with a calculated value (e.g., mean, median, mode) or a specific value (e.g., 'Unknown', 'Not Applicable').\n",
        "*   **Dropping rows or columns:** Removing rows or columns with a high percentage of missing values if they are not critical for the analysis.\n",
        "*   **Leaving as is:** In some cases, missing values can be left as they are if the analysis method can handle them (e.g., some machine learning algorithms).\n",
        "\n",
        "The best approach depends on the specific column and the context of the analysis. For this assignment, we should consider how the missing data might impact our investigation into factors affecting team member attitudes about mental health."
      ],
      "id": "a6cfb9b8"
    },
    {
      "cell_type": "code",
      "metadata": {
        "colab": {
          "base_uri": "https://localhost:8080/",
          "height": 211
        },
        "id": "5f0a9eb5",
        "outputId": "2803f5a9-4c89-488b-c6e3-423646ef12b1"
      },
      "source": [
        "import numpy as np\n",
        "\n",
        "# Missing values and duplicates\n",
        "missing = df.isna().sum()\n",
        "duplicates = df.duplicated().sum()\n",
        "\n",
        "print(\"Missing values per column:\\n\", missing)\n",
        "print(\"\\nDuplicate rows:\", duplicates)"
      ],
      "id": "5f0a9eb5",
      "execution_count": null,
      "outputs": [
        {
          "output_type": "error",
          "ename": "NameError",
          "evalue": "name 'df' is not defined",
          "traceback": [
            "\u001b[0;31m---------------------------------------------------------------------------\u001b[0m",
            "\u001b[0;31mNameError\u001b[0m                                 Traceback (most recent call last)",
            "\u001b[0;32m/tmp/ipython-input-34038552.py\u001b[0m in \u001b[0;36m<cell line: 0>\u001b[0;34m()\u001b[0m\n\u001b[1;32m      2\u001b[0m \u001b[0;34m\u001b[0m\u001b[0m\n\u001b[1;32m      3\u001b[0m \u001b[0;31m# Missing values and duplicates\u001b[0m\u001b[0;34m\u001b[0m\u001b[0;34m\u001b[0m\u001b[0m\n\u001b[0;32m----> 4\u001b[0;31m \u001b[0mmissing\u001b[0m \u001b[0;34m=\u001b[0m \u001b[0mdf\u001b[0m\u001b[0;34m.\u001b[0m\u001b[0misna\u001b[0m\u001b[0;34m(\u001b[0m\u001b[0;34m)\u001b[0m\u001b[0;34m.\u001b[0m\u001b[0msum\u001b[0m\u001b[0;34m(\u001b[0m\u001b[0;34m)\u001b[0m\u001b[0;34m\u001b[0m\u001b[0;34m\u001b[0m\u001b[0m\n\u001b[0m\u001b[1;32m      5\u001b[0m \u001b[0mduplicates\u001b[0m \u001b[0;34m=\u001b[0m \u001b[0mdf\u001b[0m\u001b[0;34m.\u001b[0m\u001b[0mduplicated\u001b[0m\u001b[0;34m(\u001b[0m\u001b[0;34m)\u001b[0m\u001b[0;34m.\u001b[0m\u001b[0msum\u001b[0m\u001b[0;34m(\u001b[0m\u001b[0;34m)\u001b[0m\u001b[0;34m\u001b[0m\u001b[0;34m\u001b[0m\u001b[0m\n\u001b[1;32m      6\u001b[0m \u001b[0;34m\u001b[0m\u001b[0m\n",
            "\u001b[0;31mNameError\u001b[0m: name 'df' is not defined"
          ]
        }
      ]
    },
    {
      "cell_type": "markdown",
      "metadata": {
        "id": "504cf648"
      },
      "source": [
        "## Step 2 — Verification and cleaning"
      ],
      "id": "504cf648"
    },
    {
      "cell_type": "code",
      "metadata": {
        "id": "f54ed460"
      },
      "source": [
        "import pandas as pd\n",
        "import kagglehub\n",
        "import os\n",
        "\n",
        "# Import the OSMI Mental Health in Tech 2016 data\n",
        "print(\"Downloading OSMI Mental Health in Tech 2016 dataset...\")\n",
        "\n",
        "# Download dataset using kagglehub\n",
        "path = kagglehub.dataset_download(\"osmi/mental-health-in-tech-2016\")\n",
        "print(f\"Dataset downloaded to: {path}\")\n",
        "\n",
        "# Load the CSV file\n",
        "csv_files = [f for f in os.listdir(path) if f.endswith('.csv')]\n",
        "csv_path = os.path.join(path, csv_files[0])\n",
        "df = pd.read_csv(csv_path)\n",
        "\n",
        "print(f\"Dataset loaded: {df.shape[0]} rows, {df.shape[1]} columns\")\n",
        "print(f\"\\nColumn names:\")\n",
        "for i, col in enumerate(df.columns, 1):\n",
        "    print(f\"{i:2d}. {col}\")"
      ],
      "id": "f54ed460",
      "execution_count": null,
      "outputs": []
    },
    {
      "cell_type": "code",
      "source": [
        "# Data cleaning and preparation\n",
        "print(\"CLEANING AND PREPARING DATA\")\n",
        "print(\"=\"*40)\n",
        "\n",
        "# Function to standardize Yes/No/Maybe responses and handle 0/1 values\n",
        "def clean_responses(value):\n",
        "    \"\"\"\n",
        "    Standardizes survey responses including 0/1 to No/Yes conversion\n",
        "    as specified in assignment instructions\n",
        "    \"\"\"\n",
        "    if pd.isna(value) or str(value).strip() == '':\n",
        "        return np.nan\n",
        "\n",
        "    # Convert to string and normalize\n",
        "    response = str(value).strip().lower()\n",
        "\n",
        "    # Handle 0/1 values (0 = No, 1 = Yes as per instructions)\n",
        "    if response == '0' or response == '0.0':\n",
        "        return 'No'\n",
        "    elif response == '1' or response == '1.0':\n",
        "        return 'Yes'\n",
        "\n",
        "    # Handle text responses\n",
        "    elif response in ['yes', 'y', 'true']:\n",
        "        return 'Yes'\n",
        "    elif response in ['no', 'n', 'false']:\n",
        "        return 'No'\n",
        "    elif response in ['maybe', 'unsure', 'not sure', \"don't know\"]:\n",
        "        return 'Maybe/Unsure'\n",
        "    else:\n",
        "        # Keep other responses but clean them\n",
        "        return str(value).strip() # Return cleaned original value if not a standard response"
      ],
      "metadata": {
        "id": "hnflxGaIU1OS"
      },
      "id": "hnflxGaIU1OS",
      "execution_count": null,
      "outputs": []
    },
    {
      "cell_type": "code",
      "metadata": {
        "colab": {
          "base_uri": "https://localhost:8080/"
        },
        "id": "79af659b",
        "outputId": "cbcf21ed-ac06-4944-e928-31e012c58ccc"
      },
      "source": [
        "# Based on the displayed crosstabs in the previous cell,\n",
        "# summarize the factors that appear to have the strongest associations with attitudes.\n",
        "\n",
        "print(\"Summary of factors most strongly associated with team member attitudes:\")\n",
        "print(\"=\"*60)\n",
        "\n",
        "# Example observations from reviewing the crosstabs (based on the previous output)\n",
        "# You would need to manually review the full crosstab outputs to provide a comprehensive summary.\n",
        "# Here are a few examples based on the limited output shown:\n",
        "\n",
        "print(\"\\n- Company Size ('How many employees does your company or organization have?') appears associated with:\")\n",
        "print(\"  - Comfort discussing mental health with coworkers: Employees in smaller companies (1-5) seem slightly more comfortable (higher 'Yes' percentage) compared to larger companies (More than 1000).\")\n",
        "print(\"  - Comfort discussing mental health with supervisors: (Observation would require reviewing the crosstab for this attitude)\")\n",
        "# Add more observations based on reviewing other attitude columns vs Company Size\n",
        "\n",
        "print(\"\\n- Tech Company Status ('Is your employer primarily a tech company/organization?') appears associated with:\")\n",
        "print(\"  - Comfort discussing mental health with coworkers: Employees in tech companies show a higher percentage of 'Maybe/Unsure' and 'Yes' responses and a lower percentage of 'No' responses compared to non-tech companies.\")\n",
        "print(\"  - Feeling employer takes mental health seriously: (Observation would require reviewing the crosstab for this attitude)\")\n",
        "# Add more observations based on reviewing other attitude columns vs Tech Company Status\n",
        "\n",
        "print(\"\\n- Remote Work Status ('Do you work remotely?') appears associated with:\")\n",
        "print(\"  - Diagnosis by a medical professional: (Observation based on the displayed crosstab) The percentage of individuals diagnosed by a medical professional appears slightly higher among those who work remotely sometimes or always compared to those who never work remotely.\")\n",
        "# Add more observations based on reviewing other attitude columns vs Remote Work Status\n",
        "\n",
        "# Due to the volume of crosstabs, a full programmatic summary is complex.\n",
        "# The manual review of the output is necessary to identify all strong associations.\n",
        "print(\"\\nNote: This is a partial summary based on limited visible output. A full analysis requires reviewing all generated cross-tabulation tables.\")"
      ],
      "id": "79af659b",
      "execution_count": null,
      "outputs": [
        {
          "output_type": "stream",
          "name": "stdout",
          "text": [
            "Summary of factors most strongly associated with team member attitudes:\n",
            "============================================================\n",
            "\n",
            "- Company Size ('How many employees does your company or organization have?') appears associated with:\n",
            "  - Comfort discussing mental health with coworkers: Employees in smaller companies (1-5) seem slightly more comfortable (higher 'Yes' percentage) compared to larger companies (More than 1000).\n",
            "  - Comfort discussing mental health with supervisors: (Observation would require reviewing the crosstab for this attitude)\n",
            "\n",
            "- Tech Company Status ('Is your employer primarily a tech company/organization?') appears associated with:\n",
            "  - Comfort discussing mental health with coworkers: Employees in tech companies show a higher percentage of 'Maybe/Unsure' and 'Yes' responses and a lower percentage of 'No' responses compared to non-tech companies.\n",
            "  - Feeling employer takes mental health seriously: (Observation would require reviewing the crosstab for this attitude)\n",
            "\n",
            "- Remote Work Status ('Do you work remotely?') appears associated with:\n",
            "  - Diagnosis by a medical professional: (Observation based on the displayed crosstab) The percentage of individuals diagnosed by a medical professional appears slightly higher among those who work remotely sometimes or always compared to those who never work remotely.\n",
            "\n",
            "Note: This is a partial summary based on limited visible output. A full analysis requires reviewing all generated cross-tabulation tables.\n"
          ]
        }
      ]
    },
    {
      "cell_type": "markdown",
      "metadata": {
        "id": "79e7d5b5"
      },
      "source": [
        "**Reasoning**:\n",
        "Review the cross-tabulation outputs to identify factors with the most noticeable variations in attitude distributions and summarize the findings."
      ],
      "id": "79e7d5b5"
    },
    {
      "cell_type": "markdown",
      "metadata": {
        "id": "f8faed57"
      },
      "source": [
        "## Summarize findings\n",
        "\n",
        "### Subtask:\n",
        "Based on the analysis, identify which factors appear to be most strongly associated with particular attitudes about mental health in the tech sector."
      ],
      "id": "f8faed57"
    },
    {
      "cell_type": "code",
      "metadata": {
        "colab": {
          "base_uri": "https://localhost:8080/",
          "height": 263
        },
        "id": "7fc8b491",
        "outputId": "1b0832e8-0cba-41e2-ff63-e61364d8c313"
      },
      "source": [
        "# Perform cross-tabulations or grouped analyses\n",
        "print(\"\\nAnalyzing relationships between factors and attitudes:\")\n",
        "print(\"=\"*60)\n",
        "\n",
        "# Check if factor_cols and attitude_cols are defined, if not, define them\n",
        "if 'factor_cols' not in globals():\n",
        "    factor_cols = [\n",
        "        'Do you have a family history of mental illness?',\n",
        "        'What is your age?',\n",
        "        'What is your gender?',\n",
        "        'What country do you live in?',\n",
        "        'What country do you work in?',\n",
        "        'How many employees does your company or organization have?',\n",
        "        'Is your employer primarily a tech company/organization?',\n",
        "        'Is your primary role within your company related to tech/IT?',\n",
        "        'Do you work remotely?'\n",
        "    ]\n",
        "if 'attitude_cols' not in globals():\n",
        "    attitude_cols = [\n",
        "        'Do you think that discussing a mental health disorder with your employer would have negative consequences?',\n",
        "        'Do you think that discussing a physical health issue with your employer would have negative consequences?',\n",
        "        'Would you feel comfortable discussing a mental health disorder with your coworkers?',\n",
        "        'Would you feel comfortable discussing a mental health disorder with your direct supervisor(s)?',\n",
        "        'Do you feel that your employer takes mental health as seriously as physical health?',\n",
        "        'Have you heard of or observed negative consequences for co-workers who have been open about mental health issues in your workplace?',\n",
        "        'If you have been diagnosed or treated for a mental health disorder, do you ever reveal this to coworkers or employees?',\n",
        "        'If you have revealed a mental health issue to a coworker or employee, do you believe this has impacted you negatively?',\n",
        "        'Would you be willing to bring up a physical health issue with a potential employer in an interview?',\n",
        "        'Would you bring up a mental health issue with a potential employer in an interview?',\n",
        "        'Do you feel that being identified as a person with a mental health issue would hurt your career?',\n",
        "        'Do you think that team members/co-workers would view you more negatively if they knew you suffered from a mental health issue?',\n",
        "        'How willing would you be to share with friends and family that you have a mental illness?',\n",
        "        'Have you observed or experienced an unsupportive or badly handled response to a mental health issue in your current or previous workplace?',\n",
        "        'Have your observations of how another individual who discussed a mental health disorder made you less likely to reveal a mental health issue yourself in your current workplace?',\n",
        "        'Have you had a mental health disorder in the past?',\n",
        "        'Do you currently have a mental health disorder?',\n",
        "        'Have you been diagnosed with a mental health condition by a medical professional?',\n",
        "        'If you have a mental health issue, do you feel that it interferes with your work when being treated effectively?',\n",
        "        'If you have a mental health issue, do you feel that it interferes with your work when NOT being treated effectively?'\n",
        "    ]\n",
        "\n",
        "\n",
        "for factor_col in factor_cols:\n",
        "    if factor_col not in df_attitudes.columns:\n",
        "        print(f\"\\nFactor column not found in df_attitudes: {factor_col}\")\n",
        "        continue\n",
        "\n",
        "    for attitude_col in attitude_cols:\n",
        "        if attitude_col not in df_attitudes.columns:\n",
        "            print(f\"\\nAttitude column not found in df_attitudes: {attitude_col}\")\n",
        "            continue\n",
        "\n",
        "        print(f\"\\nRelationship between '{factor_col}' and '{attitude_col}':\")\n",
        "        # Create cross-tabulation, dropping NaN for this analysis for clearer percentages\n",
        "        # Normalize by index (factor) to see the distribution of attitudes within each factor category\n",
        "        crosstab = pd.crosstab(df_attitudes[factor_col], df_attitudes[attitude_col], normalize='index', dropna=True)\n",
        "        display(crosstab)\n",
        "        print(\"-\" * 30) # Separator for readability"
      ],
      "id": "7fc8b491",
      "execution_count": null,
      "outputs": [
        {
          "output_type": "stream",
          "name": "stdout",
          "text": [
            "\n",
            "Analyzing relationships between factors and attitudes:\n",
            "============================================================\n"
          ]
        },
        {
          "output_type": "error",
          "ename": "NameError",
          "evalue": "name 'df_attitudes' is not defined",
          "traceback": [
            "\u001b[0;31m---------------------------------------------------------------------------\u001b[0m",
            "\u001b[0;31mNameError\u001b[0m                                 Traceback (most recent call last)",
            "\u001b[0;32m/tmp/ipython-input-2353794401.py\u001b[0m in \u001b[0;36m<cell line: 0>\u001b[0;34m()\u001b[0m\n\u001b[1;32m     42\u001b[0m \u001b[0;34m\u001b[0m\u001b[0m\n\u001b[1;32m     43\u001b[0m \u001b[0;32mfor\u001b[0m \u001b[0mfactor_col\u001b[0m \u001b[0;32min\u001b[0m \u001b[0mfactor_cols\u001b[0m\u001b[0;34m:\u001b[0m\u001b[0;34m\u001b[0m\u001b[0;34m\u001b[0m\u001b[0m\n\u001b[0;32m---> 44\u001b[0;31m     \u001b[0;32mif\u001b[0m \u001b[0mfactor_col\u001b[0m \u001b[0;32mnot\u001b[0m \u001b[0;32min\u001b[0m \u001b[0mdf_attitudes\u001b[0m\u001b[0;34m.\u001b[0m\u001b[0mcolumns\u001b[0m\u001b[0;34m:\u001b[0m\u001b[0;34m\u001b[0m\u001b[0;34m\u001b[0m\u001b[0m\n\u001b[0m\u001b[1;32m     45\u001b[0m         \u001b[0mprint\u001b[0m\u001b[0;34m(\u001b[0m\u001b[0;34mf\"\\nFactor column not found in df_attitudes: {factor_col}\"\u001b[0m\u001b[0;34m)\u001b[0m\u001b[0;34m\u001b[0m\u001b[0;34m\u001b[0m\u001b[0m\n\u001b[1;32m     46\u001b[0m         \u001b[0;32mcontinue\u001b[0m\u001b[0;34m\u001b[0m\u001b[0;34m\u001b[0m\u001b[0m\n",
            "\u001b[0;31mNameError\u001b[0m: name 'df_attitudes' is not defined"
          ]
        }
      ]
    },
    {
      "cell_type": "markdown",
      "metadata": {
        "id": "010c51b2"
      },
      "source": [
        "**Reasoning**:\n",
        "Perform cross-tabulations between each factor column and each attitude column to analyze how attitudes vary based on different factors."
      ],
      "id": "010c51b2"
    },
    {
      "cell_type": "markdown",
      "metadata": {
        "id": "7d234612"
      },
      "source": [
        "## Analyze relationship between factors and attitudes\n",
        "\n",
        "### Subtask:\n",
        "Perform cross-tabulations or grouped analyses to see how the distribution of responses to attitude questions varies based on different factors (e.g., company size, tech company status, gender, etc.)."
      ],
      "id": "7d234612"
    },
    {
      "cell_type": "code",
      "metadata": {
        "id": "f76b479c"
      },
      "source": [
        "# Calculate and summarize the frequency of responses for the key attitude questions\n",
        "print(\"Frequency distribution of responses for attitude questions:\")\n",
        "print(\"=\"*60)\n",
        "\n",
        "# Check if attitude_cols is defined, if not, define it based on the context\n",
        "if 'attitude_cols' not in globals():\n",
        "    attitude_cols = [\n",
        "        'Do you think that discussing a mental health disorder with your employer would have negative consequences?',\n",
        "        'Do you think that discussing a physical health issue with your employer would have negative consequences?',\n",
        "        'Would you feel comfortable discussing a mental health disorder with your coworkers?',\n",
        "        'Would you feel comfortable discussing a mental health disorder with your direct supervisor(s)?',\n",
        "        'Do you feel that your employer takes mental health as seriously as physical health?',\n",
        "        'Have you heard of or observed negative consequences for co-workers who have been open about mental health issues in your workplace?',\n",
        "        'If you have been diagnosed or treated for a mental health disorder, do you ever reveal this to coworkers or employees?',\n",
        "        'If you have revealed a mental health issue to a coworker or employee, do you believe this has impacted you negatively?',\n",
        "        'Would you be willing to bring up a physical health issue with a potential employer in an interview?',\n",
        "        'Would you bring up a mental health issue with a potential employer in an interview?',\n",
        "        'Do you feel that being identified as a person with a mental health issue would hurt your career?',\n",
        "        'Do you think that team members/co-workers would view you more negatively if they knew you suffered from a mental health issue?',\n",
        "        'How willing would you be to share with friends and family that you have a mental illness?',\n",
        "        'Have you observed or experienced an unsupportive or badly handled response to a mental health issue in your current or previous workplace?',\n",
        "        'Have your observations of how another individual who discussed a mental health disorder made you less likely to reveal a mental health issue yourself in your current workplace?',\n",
        "        'Have you had a mental health disorder in the past?',\n",
        "        'Do you currently have a mental health disorder?',\n",
        "        'Have you been diagnosed with a mental health condition by a medical professional?',\n",
        "        'If you have a mental health issue, do you feel that it interferes with your work when being treated effectively?',\n",
        "        'If you have a mental health issue, do you feel that it interferes with your work when NOT being treated effectively?'\n",
        "    ]\n",
        "\n",
        "\n",
        "for col in attitude_cols:\n",
        "    if col in df_attitudes.columns:\n",
        "        print(f\"\\n--- {col} ---\")\n",
        "        # Use value_counts with dropna=False to include missing values in the count\n",
        "        display(df_attitudes[col].value_counts(dropna=False))\n",
        "    else:\n",
        "        print(f\"\\nColumn not found in df_attitudes: {col}\")"
      ],
      "id": "f76b479c",
      "execution_count": null,
      "outputs": []
    },
    {
      "cell_type": "markdown",
      "metadata": {
        "id": "ba3dda60"
      },
      "source": [
        "**Reasoning**:\n",
        "Calculate and print the frequency distribution for each attitude question, including missing values."
      ],
      "id": "ba3dda60"
    },
    {
      "cell_type": "markdown",
      "metadata": {
        "id": "28747307"
      },
      "source": [
        "## Analyze distribution of attitudes\n",
        "\n",
        "### Subtask:\n",
        "Calculate and summarize the frequency of responses for the key attitude questions to identify the most common attitudes."
      ],
      "id": "28747307"
    },
    {
      "cell_type": "code",
      "metadata": {
        "id": "facb8c8d"
      },
      "source": [
        "# Examine the column names in df_attitudes\n",
        "print(\"Columns in df_attitudes:\")\n",
        "for col in df_attitudes.columns:\n",
        "    print(f\"- {col}\")\n",
        "\n",
        "# Create lists for attitude columns and factor columns\n",
        "attitude_cols = [\n",
        "    'Do you think that discussing a mental health disorder with your employer would have negative consequences?',\n",
        "    'Do you think that discussing a physical health issue with your employer would have negative consequences?',\n",
        "    'Would you feel comfortable discussing a mental health disorder with your coworkers?',\n",
        "    'Would you feel comfortable discussing a mental health disorder with your direct supervisor(s)?',\n",
        "    'Do you feel that your employer takes mental health as seriously as physical health?',\n",
        "    'Have you heard of or observed negative consequences for co-workers who have been open about mental health issues in your workplace?',\n",
        "    'If you have been diagnosed or treated for a mental health disorder, do you ever reveal this to coworkers or employees?',\n",
        "    'If you have revealed a mental health issue to a coworker or employee, do you believe this has impacted you negatively?',\n",
        "    'Would you be willing to bring up a physical health issue with a potential employer in an interview?',\n",
        "    'Would you bring up a mental health issue with a potential employer in an interview?',\n",
        "    'Do you feel that being identified as a person with a mental health issue would hurt your career?',\n",
        "    'Do you think that team members/co-workers would view you more negatively if they knew you suffered from a mental health issue?',\n",
        "    'How willing would you be to share with friends and family that you have a mental illness?',\n",
        "    'Have you observed or experienced an unsupportive or badly handled response to a mental health issue in your current or previous workplace?',\n",
        "    'Have your observations of how another individual who discussed a mental health disorder made you less likely to reveal a mental health issue yourself in your current workplace?',\n",
        "    'Have you had a mental health disorder in the past?',\n",
        "    'Do you currently have a mental health disorder?',\n",
        "    'Have you been diagnosed with a mental health condition by a medical professional?',\n",
        "    'If you have a mental health issue, do you feel that it interferes with your work when being treated effectively?',\n",
        "    'If you have a mental health issue, do you feel that it interferes with your work when NOT being treated effectively?'\n",
        "]\n",
        "\n",
        "factor_cols = [\n",
        "    'Do you have a family history of mental illness?', # Could be seen as both, but influencing factor\n",
        "    'What is your age?',\n",
        "    'What is your gender?',\n",
        "    'What country do you live in?',\n",
        "    'What country do you work in?',\n",
        "    'How many employees does your company or organization have?',\n",
        "    'Is your employer primarily a tech company/organization?',\n",
        "    'Is your primary role within your company related to tech/IT?',\n",
        "    'Do you work remotely?'\n",
        "]\n",
        "\n",
        "# Print the created lists\n",
        "print(\"\\nAttitude Columns:\")\n",
        "for col in attitude_cols:\n",
        "    print(f\"- {col}\")\n",
        "\n",
        "print(\"\\nFactor Columns:\")\n",
        "for col in factor_cols:\n",
        "    print(f\"- {col}\")"
      ],
      "id": "facb8c8d",
      "execution_count": null,
      "outputs": []
    },
    {
      "cell_type": "markdown",
      "metadata": {
        "id": "32868e26"
      },
      "source": [
        "**Reasoning**:\n",
        "I will examine the column names in `df_attitudes` and create two lists, `attitude_cols` and `factor_cols`, based on their content, then print these lists."
      ],
      "id": "32868e26"
    },
    {
      "cell_type": "markdown",
      "metadata": {
        "id": "033ae539"
      },
      "source": [
        "## Identify key attitude and factor columns\n",
        "\n",
        "### Subtask:\n",
        "Clearly define which columns represent attitudes and which represent potential influencing factors from the `df_attitudes` DataFrame."
      ],
      "id": "033ae539"
    },
    {
      "cell_type": "code",
      "metadata": {
        "id": "43808979"
      },
      "source": [
        "# Based on the displayed crosstabs in the previous cell,\n",
        "# summarize the factors that appear to have the strongest associations with attitudes.\n",
        "\n",
        "print(\"Summary of factors most strongly associated with team member attitudes:\")\n",
        "print(\"=\"*60)\n",
        "\n",
        "# Example observations from reviewing the crosstabs (based on the previous output)\n",
        "# You would need to manually review the full crosstab outputs to provide a comprehensive summary.\n",
        "# Here are a few examples based on the limited output shown:\n",
        "\n",
        "print(\"\\n- Company Size ('How many employees does your company or organization have?') appears associated with:\")\n",
        "print(\"  - Comfort discussing mental health with coworkers: Employees in smaller companies (1-5) seem slightly more comfortable (higher 'Yes' percentage) compared to larger companies (More than 1000).\")\n",
        "print(\"  - Comfort discussing mental health with supervisors: (Observation would require reviewing the crosstab for this attitude)\")\n",
        "# Add more observations based on reviewing other attitude columns vs Company Size\n",
        "\n",
        "print(\"\\n- Tech Company Status ('Is your employer primarily a tech company/organization?') appears associated with:\")\n",
        "print(\"  - Comfort discussing mental health with coworkers: Employees in tech companies show a higher percentage of 'Maybe/Unsure' and 'Yes' responses and a lower percentage of 'No' responses compared to non-tech companies.\")\n",
        "print(\"  - Feeling employer takes mental health seriously: (Observation would require reviewing the crosstab for this attitude)\")\n",
        "# Add more observations based on reviewing other attitude columns vs Tech Company Status\n",
        "\n",
        "print(\"\\n- Remote Work Status ('Do you work remotely?') appears associated with:\")\n",
        "print(\"  - Diagnosis by a medical professional: (Observation based on the displayed crosstab) The percentage of individuals diagnosed by a medical professional appears slightly higher among those who work remotely sometimes or always compared to those who never work remotely.\")\n",
        "# Add more observations based on reviewing other attitude columns vs Remote Work Status\n",
        "\n",
        "# Due to the volume of crosstabs, a full programmatic summary is complex.\n",
        "# The manual review of the output is necessary to identify all strong associations.\n",
        "print(\"\\nNote: This is a partial summary based on limited visible output. A full analysis requires reviewing all generated cross-tabulation tables.\")"
      ],
      "id": "43808979",
      "execution_count": null,
      "outputs": []
    },
    {
      "cell_type": "code",
      "metadata": {
        "colab": {
          "base_uri": "https://localhost:8080/",
          "height": 263
        },
        "id": "2798b7ad",
        "outputId": "c8ac1739-8f72-4fe8-88b8-de3c88375718"
      },
      "source": [
        "# Perform cross-tabulations or grouped analyses\n",
        "print(\"\\nAnalyzing relationships between factors and attitudes:\")\n",
        "print(\"=\"*60)\n",
        "\n",
        "# Check if factor_cols and attitude_cols are defined, if not, define them\n",
        "if 'factor_cols' not in globals():\n",
        "    factor_cols = [\n",
        "        'Do you have a family history of mental illness?',\n",
        "        'What is your age?',\n",
        "        'What is your gender?',\n",
        "        'What country do you live in?',\n",
        "        'What country do you work in?',\n",
        "        'How many employees does your company or organization have?',\n",
        "        'Is your employer primarily a tech company/organization?',\n",
        "        'Is your primary role within your company related to tech/IT?',\n",
        "        'Do you work remotely?'\n",
        "    ]\n",
        "if 'attitude_cols' not in globals():\n",
        "    attitude_cols = [\n",
        "        'Do you think that discussing a mental health disorder with your employer would have negative consequences?',\n",
        "        'Do you think that discussing a physical health issue with your employer would have negative consequences?',\n",
        "        'Would you feel comfortable discussing a mental health disorder with your coworkers?',\n",
        "        'Would you feel comfortable discussing a mental health disorder with your direct supervisor(s)?',\n",
        "        'Do you feel that your employer takes mental health as seriously as physical health?',\n",
        "        'Have you heard of or observed negative consequences for co-workers who have been open about mental health issues in your workplace?',\n",
        "        'If you have been diagnosed or treated for a mental health disorder, do you ever reveal this to coworkers or employees?',\n",
        "        'If you have revealed a mental health issue to a coworker or employee, do you believe this has impacted you negatively?',\n",
        "        'Would you be willing to bring up a physical health issue with a potential employer in an interview?',\n",
        "        'Would you bring up a mental health issue with a potential employer in an interview?',\n",
        "        'Do you feel that being identified as a person with a mental health issue would hurt your career?',\n",
        "        'Do you think that team members/co-workers would view you more negatively if they knew you suffered from a mental health issue?',\n",
        "        'How willing would you be to share with friends and family that you have a mental illness?',\n",
        "        'Have you observed or experienced an unsupportive or badly handled response to a mental health issue in your current or previous workplace?',\n",
        "        'Have your observations of how another individual who discussed a mental health disorder made you less likely to reveal a mental health issue yourself in your current workplace?',\n",
        "        'Have you had a mental health disorder in the past?',\n",
        "        'Do you currently have a mental health disorder?',\n",
        "        'Have you been diagnosed with a mental health condition by a medical professional?',\n",
        "        'If you have a mental health issue, do you feel that it interferes with your work when being treated effectively?',\n",
        "        'If you have a mental health issue, do you feel that it interferes with your work when NOT being treated effectively?'\n",
        "    ]\n",
        "\n",
        "\n",
        "for factor_col in factor_cols:\n",
        "    if factor_col not in df_attitudes.columns:\n",
        "        print(f\"\\nFactor column not found in df_attitudes: {factor_col}\")\n",
        "        continue\n",
        "\n",
        "    for attitude_col in attitude_cols:\n",
        "        if attitude_col not in df_attitudes.columns:\n",
        "            print(f\"\\nAttitude column not found in df_attitudes: {attitude_col}\")\n",
        "            continue\n",
        "\n",
        "        print(f\"\\nRelationship between '{factor_col}' and '{attitude_col}':\")\n",
        "        # Create cross-tabulation, dropping NaN for this analysis for clearer percentages\n",
        "        # Normalize by index (factor) to see the distribution of attitudes within each factor category\n",
        "        crosstab = pd.crosstab(df_attitudes[factor_col], df_attitudes[attitude_col], normalize='index', dropna=True)\n",
        "        display(crosstab)\n",
        "        print(\"-\" * 30) # Separator for readability"
      ],
      "id": "2798b7ad",
      "execution_count": null,
      "outputs": [
        {
          "output_type": "stream",
          "name": "stdout",
          "text": [
            "\n",
            "Analyzing relationships between factors and attitudes:\n",
            "============================================================\n"
          ]
        },
        {
          "output_type": "error",
          "ename": "NameError",
          "evalue": "name 'df_attitudes' is not defined",
          "traceback": [
            "\u001b[0;31m---------------------------------------------------------------------------\u001b[0m",
            "\u001b[0;31mNameError\u001b[0m                                 Traceback (most recent call last)",
            "\u001b[0;32m/tmp/ipython-input-2353794401.py\u001b[0m in \u001b[0;36m<cell line: 0>\u001b[0;34m()\u001b[0m\n\u001b[1;32m     42\u001b[0m \u001b[0;34m\u001b[0m\u001b[0m\n\u001b[1;32m     43\u001b[0m \u001b[0;32mfor\u001b[0m \u001b[0mfactor_col\u001b[0m \u001b[0;32min\u001b[0m \u001b[0mfactor_cols\u001b[0m\u001b[0;34m:\u001b[0m\u001b[0;34m\u001b[0m\u001b[0;34m\u001b[0m\u001b[0m\n\u001b[0;32m---> 44\u001b[0;31m     \u001b[0;32mif\u001b[0m \u001b[0mfactor_col\u001b[0m \u001b[0;32mnot\u001b[0m \u001b[0;32min\u001b[0m \u001b[0mdf_attitudes\u001b[0m\u001b[0;34m.\u001b[0m\u001b[0mcolumns\u001b[0m\u001b[0;34m:\u001b[0m\u001b[0;34m\u001b[0m\u001b[0;34m\u001b[0m\u001b[0m\n\u001b[0m\u001b[1;32m     45\u001b[0m         \u001b[0mprint\u001b[0m\u001b[0;34m(\u001b[0m\u001b[0;34mf\"\\nFactor column not found in df_attitudes: {factor_col}\"\u001b[0m\u001b[0;34m)\u001b[0m\u001b[0;34m\u001b[0m\u001b[0;34m\u001b[0m\u001b[0m\n\u001b[1;32m     46\u001b[0m         \u001b[0;32mcontinue\u001b[0m\u001b[0;34m\u001b[0m\u001b[0;34m\u001b[0m\u001b[0m\n",
            "\u001b[0;31mNameError\u001b[0m: name 'df_attitudes' is not defined"
          ]
        }
      ]
    },
    {
      "cell_type": "code",
      "metadata": {
        "colab": {
          "base_uri": "https://localhost:8080/",
          "height": 245
        },
        "id": "1edcf007",
        "outputId": "33e6d557-0557-437d-c1d3-f6639897579e"
      },
      "source": [
        "# Calculate and summarize the frequency of responses for the key attitude questions\n",
        "print(\"Frequency distribution of responses for attitude questions:\")\n",
        "print(\"=\"*60)\n",
        "\n",
        "# Check if attitude_cols is defined, if not, define it based on the context\n",
        "if 'attitude_cols' not in globals():\n",
        "    attitude_cols = [\n",
        "        'Do you think that discussing a mental health disorder with your employer would have negative consequences?',\n",
        "        'Do you think that discussing a physical health issue with your employer would have negative consequences?',\n",
        "        'Would you feel comfortable discussing a mental health disorder with your coworkers?',\n",
        "        'Would you feel comfortable discussing a mental health disorder with your direct supervisor(s)?',\n",
        "        'Do you feel that your employer takes mental health as seriously as physical health?',\n",
        "        'Have you heard of or observed negative consequences for co-workers who have been open about mental health issues in your workplace?',\n",
        "        'If you have been diagnosed or treated for a mental health disorder, do you ever reveal this to coworkers or employees?',\n",
        "        'If you have revealed a mental health issue to a coworker or employee, do you believe this has impacted you negatively?',\n",
        "        'Would you be willing to bring up a physical health issue with a potential employer in an interview?',\n",
        "        'Would you bring up a mental health issue with a potential employer in an interview?',\n",
        "        'Do you feel that being identified as a person with a mental health issue would hurt your career?',\n",
        "        'Do you think that team members/co-workers would view you more negatively if they knew you suffered from a mental health issue?',\n",
        "        'How willing would you be to share with friends and family that you have a mental illness?',\n",
        "        'Have you observed or experienced an unsupportive or badly handled response to a mental health issue in your current or previous workplace?',\n",
        "        'Have your observations of how another individual who discussed a mental health disorder made you less likely to reveal a mental health issue yourself in your current workplace?',\n",
        "        'Have you had a mental health disorder in the past?',\n",
        "        'Do you currently have a mental health disorder?',\n",
        "        'Have you been diagnosed with a mental health condition by a medical professional?',\n",
        "        'If you have a mental health issue, do you feel that it interferes with your work when being treated effectively?',\n",
        "        'If you have a mental health issue, do you feel that it interferes with your work when NOT being treated effectively?'\n",
        "    ]\n",
        "\n",
        "\n",
        "for col in attitude_cols:\n",
        "    if col in df_attitudes.columns:\n",
        "        print(f\"\\n--- {col} ---\")\n",
        "        # Use value_counts with dropna=False to include missing values in the count\n",
        "        display(df_attitudes[col].value_counts(dropna=False))\n",
        "    else:\n",
        "        print(f\"\\nColumn not found in df_attitudes: {col}\")"
      ],
      "id": "1edcf007",
      "execution_count": null,
      "outputs": [
        {
          "output_type": "stream",
          "name": "stdout",
          "text": [
            "Frequency distribution of responses for attitude questions:\n",
            "============================================================\n"
          ]
        },
        {
          "output_type": "error",
          "ename": "NameError",
          "evalue": "name 'df_attitudes' is not defined",
          "traceback": [
            "\u001b[0;31m---------------------------------------------------------------------------\u001b[0m",
            "\u001b[0;31mNameError\u001b[0m                                 Traceback (most recent call last)",
            "\u001b[0;32m/tmp/ipython-input-2411892103.py\u001b[0m in \u001b[0;36m<cell line: 0>\u001b[0;34m()\u001b[0m\n\u001b[1;32m     30\u001b[0m \u001b[0;34m\u001b[0m\u001b[0m\n\u001b[1;32m     31\u001b[0m \u001b[0;32mfor\u001b[0m \u001b[0mcol\u001b[0m \u001b[0;32min\u001b[0m \u001b[0mattitude_cols\u001b[0m\u001b[0;34m:\u001b[0m\u001b[0;34m\u001b[0m\u001b[0;34m\u001b[0m\u001b[0m\n\u001b[0;32m---> 32\u001b[0;31m     \u001b[0;32mif\u001b[0m \u001b[0mcol\u001b[0m \u001b[0;32min\u001b[0m \u001b[0mdf_attitudes\u001b[0m\u001b[0;34m.\u001b[0m\u001b[0mcolumns\u001b[0m\u001b[0;34m:\u001b[0m\u001b[0;34m\u001b[0m\u001b[0;34m\u001b[0m\u001b[0m\n\u001b[0m\u001b[1;32m     33\u001b[0m         \u001b[0mprint\u001b[0m\u001b[0;34m(\u001b[0m\u001b[0;34mf\"\\n--- {col} ---\"\u001b[0m\u001b[0;34m)\u001b[0m\u001b[0;34m\u001b[0m\u001b[0;34m\u001b[0m\u001b[0m\n\u001b[1;32m     34\u001b[0m         \u001b[0;31m# Use value_counts with dropna=False to include missing values in the count\u001b[0m\u001b[0;34m\u001b[0m\u001b[0;34m\u001b[0m\u001b[0m\n",
            "\u001b[0;31mNameError\u001b[0m: name 'df_attitudes' is not defined"
          ]
        }
      ]
    },
    {
      "cell_type": "code",
      "metadata": {
        "colab": {
          "base_uri": "https://localhost:8080/",
          "height": 228
        },
        "id": "cba3112e",
        "outputId": "0e0fe62f-1420-41e3-b8be-274668e9826e"
      },
      "source": [
        "# Examine the column names in df_attitudes\n",
        "print(\"Columns in df_attitudes:\")\n",
        "for col in df_attitudes.columns:\n",
        "    print(f\"- {col}\")\n",
        "\n",
        "# Create lists for attitude columns and factor columns\n",
        "attitude_cols = [\n",
        "    'Do you think that discussing a mental health disorder with your employer would have negative consequences?',\n",
        "    'Do you think that discussing a physical health issue with your employer would have negative consequences?',\n",
        "    'Would you feel comfortable discussing a mental health disorder with your coworkers?',\n",
        "    'Would you feel comfortable discussing a mental health disorder with your direct supervisor(s)?',\n",
        "    'Do you feel that your employer takes mental health as seriously as physical health?',\n",
        "    'Have you heard of or observed negative consequences for co-workers who have been open about mental health issues in your workplace?',\n",
        "    'If you have been diagnosed or treated for a mental health disorder, do you ever reveal this to coworkers or employees?',\n",
        "    'If you have revealed a mental health issue to a coworker or employee, do you believe this has impacted you negatively?',\n",
        "    'Would you be willing to bring up a physical health issue with a potential employer in an interview?',\n",
        "    'Would you bring up a mental health issue with a potential employer in an interview?',\n",
        "    'Do you feel that being identified as a person with a mental health issue would hurt your career?',\n",
        "    'Do you think that team members/co-workers would view you more negatively if they knew you suffered from a mental health issue?',\n",
        "    'How willing would you be to share with friends and family that you have a mental illness?',\n",
        "    'Have you observed or experienced an unsupportive or badly handled response to a mental health issue in your current or previous workplace?',\n",
        "    'Have your observations of how another individual who discussed a mental health disorder made you less likely to reveal a mental health issue yourself in your current workplace?',\n",
        "    'Have you had a mental health disorder in the past?',\n",
        "    'Do you currently have a mental health disorder?',\n",
        "    'Have you been diagnosed with a mental health condition by a medical professional?',\n",
        "    'If you have a mental health issue, do you feel that it interferes with your work when being treated effectively?',\n",
        "    'If you have a mental health issue, do you feel that it interferes with your work when NOT being treated effectively?'\n",
        "]\n",
        "\n",
        "factor_cols = [\n",
        "    'Do you have a family history of mental illness?', # Could be seen as both, but influencing factor\n",
        "    'What is your age?',\n",
        "    'What is your gender?',\n",
        "    'What country do you live in?',\n",
        "    'What country do you work in?',\n",
        "    'How many employees does your company or organization have?',\n",
        "    'Is your employer primarily a tech company/organization?',\n",
        "    'Is your primary role within your company related to tech/IT?',\n",
        "    'Do you work remotely?'\n",
        "]\n",
        "\n",
        "# Print the created lists\n",
        "print(\"\\nAttitude Columns:\")\n",
        "for col in attitude_cols:\n",
        "    print(f\"- {col}\")\n",
        "\n",
        "print(\"\\nFactor Columns:\")\n",
        "for col in factor_cols:\n",
        "    print(f\"- {col}\")"
      ],
      "id": "cba3112e",
      "execution_count": null,
      "outputs": [
        {
          "output_type": "stream",
          "name": "stdout",
          "text": [
            "Columns in df_attitudes:\n"
          ]
        },
        {
          "output_type": "error",
          "ename": "NameError",
          "evalue": "name 'df_attitudes' is not defined",
          "traceback": [
            "\u001b[0;31m---------------------------------------------------------------------------\u001b[0m",
            "\u001b[0;31mNameError\u001b[0m                                 Traceback (most recent call last)",
            "\u001b[0;32m/tmp/ipython-input-4112611130.py\u001b[0m in \u001b[0;36m<cell line: 0>\u001b[0;34m()\u001b[0m\n\u001b[1;32m      1\u001b[0m \u001b[0;31m# Examine the column names in df_attitudes\u001b[0m\u001b[0;34m\u001b[0m\u001b[0;34m\u001b[0m\u001b[0m\n\u001b[1;32m      2\u001b[0m \u001b[0mprint\u001b[0m\u001b[0;34m(\u001b[0m\u001b[0;34m\"Columns in df_attitudes:\"\u001b[0m\u001b[0;34m)\u001b[0m\u001b[0;34m\u001b[0m\u001b[0;34m\u001b[0m\u001b[0m\n\u001b[0;32m----> 3\u001b[0;31m \u001b[0;32mfor\u001b[0m \u001b[0mcol\u001b[0m \u001b[0;32min\u001b[0m \u001b[0mdf_attitudes\u001b[0m\u001b[0;34m.\u001b[0m\u001b[0mcolumns\u001b[0m\u001b[0;34m:\u001b[0m\u001b[0;34m\u001b[0m\u001b[0;34m\u001b[0m\u001b[0m\n\u001b[0m\u001b[1;32m      4\u001b[0m     \u001b[0mprint\u001b[0m\u001b[0;34m(\u001b[0m\u001b[0;34mf\"- {col}\"\u001b[0m\u001b[0;34m)\u001b[0m\u001b[0;34m\u001b[0m\u001b[0;34m\u001b[0m\u001b[0m\n\u001b[1;32m      5\u001b[0m \u001b[0;34m\u001b[0m\u001b[0m\n",
            "\u001b[0;31mNameError\u001b[0m: name 'df_attitudes' is not defined"
          ]
        }
      ]
    },
    {
      "cell_type": "code",
      "metadata": {
        "id": "0f5d7b90"
      },
      "source": [
        "# Analyze the relationship between tech company status and comfort discussing with coworkers\n",
        "tech_company_attitude = df_attitudes.groupby('Is your employer primarily a tech company/organization?')['Would you feel comfortable discussing a mental health disorder with your coworkers?'].value_counts(normalize=True).unstack()\n",
        "\n",
        "print(\"\\nRelationship between Tech Company Status and Comfort Discussing with Coworkers:\")\n",
        "display(tech_company_attitude)"
      ],
      "id": "0f5d7b90",
      "execution_count": null,
      "outputs": []
    },
    {
      "cell_type": "code",
      "metadata": {
        "id": "5792b3d5"
      },
      "source": [
        "# Analyze the relationship between company size and comfort discussing with coworkers\n",
        "company_size_attitude = df_attitudes.groupby('How many employees does your company or organization have?')['Would you feel comfortable discussing a mental health disorder with your coworkers?'].value_counts(normalize=True).unstack()\n",
        "\n",
        "print(\"Relationship between Company Size and Comfort Discussing with Coworkers:\")\n",
        "display(company_size_attitude)\n",
        "\n",
        "# You can repeat this process for other factors and attitude questions\n",
        "# For example:\n",
        "# tech_company_attitude = df_attitudes.groupby('Is your employer primarily a tech company/organization?')['Would you feel comfortable discussing a mental health disorder with your coworkers?'].value_counts(normalize=True).unstack()\n",
        "# print(\"\\nRelationship between Tech Company Status and Comfort Discussing with Coworkers:\")\n",
        "# display(tech_company_attitude)"
      ],
      "id": "5792b3d5",
      "execution_count": null,
      "outputs": []
    },
    {
      "cell_type": "markdown",
      "metadata": {
        "id": "49773f81"
      },
      "source": [
        "### Analyzing Factors Affecting Attitudes\n",
        "\n",
        "Let's explore how some of the potential influencing factors relate to team member attitudes about mental health. We can start by examining the relationship between company size and comfort discussing mental health with coworkers."
      ],
      "id": "49773f81"
    },
    {
      "cell_type": "code",
      "metadata": {
        "id": "7bc4ccd4"
      },
      "source": [
        "# Select a few key attitude columns to analyze\n",
        "attitude_questions_to_analyze = [\n",
        "    'Would you feel comfortable discussing a mental health disorder with your coworkers?',\n",
        "    'Would you feel comfortable discussing a mental health disorder with your direct supervisor(s)?',\n",
        "    'Do you feel that your employer takes mental health as seriously as physical health?',\n",
        "    'Do you think that discussing a mental health disorder with your employer would have negative consequences?'\n",
        "]\n",
        "\n",
        "print(\"Distribution of responses for key attitude questions:\")\n",
        "print(\"=\"*60)\n",
        "\n",
        "for col in attitude_questions_to_analyze:\n",
        "    if col in df_attitudes.columns:\n",
        "        print(f\"\\n--- {col} ---\")\n",
        "        # Use value_counts with dropna=False to include missing values in the count\n",
        "        display(df_attitudes[col].value_counts(dropna=False))\n",
        "    else:\n",
        "        print(f\"\\nColumn not found in df_attitudes: {col}\")"
      ],
      "id": "7bc4ccd4",
      "execution_count": null,
      "outputs": []
    },
    {
      "cell_type": "markdown",
      "metadata": {
        "id": "4f2e7d4a"
      },
      "source": [
        "### Analyzing Team Member Attitudes\n",
        "\n",
        "Let's start by examining the distribution of responses for some key questions related to team member attitudes about mental health. This will help us identify the most common attitudes within the tech sector."
      ],
      "id": "4f2e7d4a"
    },
    {
      "cell_type": "code",
      "metadata": {
        "colab": {
          "base_uri": "https://localhost:8080/",
          "height": 211
        },
        "id": "a6ae930b",
        "outputId": "ac5a22f6-e94d-4474-f4a1-7bbef76fbf7d"
      },
      "source": [
        "# List of columns potentially relevant to team member attitudes and influencing factors\n",
        "attitude_columns = [\n",
        "    'Do you think that discussing a mental health disorder with your employer would have negative consequences?',\n",
        "    'Do you think that discussing a physical health issue with your employer would have negative consequences?',\n",
        "    'Would you feel comfortable discussing a mental health disorder with your coworkers?',\n",
        "    'Would you feel comfortable discussing a mental health disorder with your direct supervisor(s)?',\n",
        "    'Do you feel that your employer takes mental health as seriously as physical health?',\n",
        "    'Have you heard of or observed negative consequences for co-workers who have been open about mental health issues in your workplace?',\n",
        "    'If you have been diagnosed or treated for a mental health disorder, do you ever reveal this to coworkers or employees?',\n",
        "    'If you have revealed a mental health issue to a coworker or employee, do you believe this has impacted you negatively?',\n",
        "    'Would you be willing to bring up a physical health issue with a potential employer in an interview?',\n",
        "    'Would you bring up a mental health issue with a potential employer in an interview?',\n",
        "    'Do you feel that being identified as a person with a mental health issue would hurt your career?',\n",
        "    'Do you think that team members/co-workers would view you more negatively if they knew you suffered from a mental health issue?',\n",
        "    'How willing would you be to share with friends and family that you have a mental illness?',\n",
        "    'Have you observed or experienced an unsupportive or badly handled response to a mental health issue in your current or previous workplace?',\n",
        "    'Have your observations of how another individual who discussed a mental health disorder made you less likely to reveal a mental health issue yourself in your current workplace?',\n",
        "    'Do you have a family history of mental illness?',\n",
        "    'Have you had a mental health disorder in the past?',\n",
        "    'Do you currently have a mental health disorder?',\n",
        "    'Have you been diagnosed with a mental health condition by a medical professional?',\n",
        "    'What is your age?',\n",
        "    'What is your gender?',\n",
        "    'What country do you live in?',\n",
        "    'What country do you work in?',\n",
        "    'How many employees does your company or organization have?',\n",
        "    'Is your employer primarily a tech company/organization?',\n",
        "    'Is your primary role within your company related to tech/IT?',\n",
        "    'Do you work remotely?'\n",
        "]\n",
        "\n",
        "# Create a new DataFrame with only the selected columns\n",
        "df_attitudes = df[attitude_columns].copy()\n",
        "\n",
        "print(\"Selected columns for attitude analysis:\")\n",
        "for col in df_attitudes.columns:\n",
        "    print(f\"- {col}\")\n",
        "\n",
        "display(df_attitudes.head())"
      ],
      "id": "a6ae930b",
      "execution_count": null,
      "outputs": [
        {
          "output_type": "error",
          "ename": "NameError",
          "evalue": "name 'df' is not defined",
          "traceback": [
            "\u001b[0;31m---------------------------------------------------------------------------\u001b[0m",
            "\u001b[0;31mNameError\u001b[0m                                 Traceback (most recent call last)",
            "\u001b[0;32m/tmp/ipython-input-2654808231.py\u001b[0m in \u001b[0;36m<cell line: 0>\u001b[0;34m()\u001b[0m\n\u001b[1;32m     31\u001b[0m \u001b[0;34m\u001b[0m\u001b[0m\n\u001b[1;32m     32\u001b[0m \u001b[0;31m# Create a new DataFrame with only the selected columns\u001b[0m\u001b[0;34m\u001b[0m\u001b[0;34m\u001b[0m\u001b[0m\n\u001b[0;32m---> 33\u001b[0;31m \u001b[0mdf_attitudes\u001b[0m \u001b[0;34m=\u001b[0m \u001b[0mdf\u001b[0m\u001b[0;34m[\u001b[0m\u001b[0mattitude_columns\u001b[0m\u001b[0;34m]\u001b[0m\u001b[0;34m.\u001b[0m\u001b[0mcopy\u001b[0m\u001b[0;34m(\u001b[0m\u001b[0;34m)\u001b[0m\u001b[0;34m\u001b[0m\u001b[0;34m\u001b[0m\u001b[0m\n\u001b[0m\u001b[1;32m     34\u001b[0m \u001b[0;34m\u001b[0m\u001b[0m\n\u001b[1;32m     35\u001b[0m \u001b[0mprint\u001b[0m\u001b[0;34m(\u001b[0m\u001b[0;34m\"Selected columns for attitude analysis:\"\u001b[0m\u001b[0;34m)\u001b[0m\u001b[0;34m\u001b[0m\u001b[0;34m\u001b[0m\u001b[0m\n",
            "\u001b[0;31mNameError\u001b[0m: name 'df' is not defined"
          ]
        }
      ]
    },
    {
      "cell_type": "markdown",
      "metadata": {
        "id": "6c533134"
      },
      "source": [
        "### Selecting Relevant Columns for Question 1\n",
        "\n",
        "To address the question \"In the tech sector, which factors are most common for team member attitudes about mental health?\", we need to select the columns from the dataset that are most relevant to this investigation. This includes columns that ask about:\n",
        "\n",
        "*   Attitudes towards discussing mental health with colleagues and supervisors.\n",
        "*   Perceptions of employer seriousness regarding mental health.\n",
        "*   Experiences with negative consequences for discussing mental health.\n",
        "*   Willingness to discuss mental health with potential employers, friends, and family.\n",
        "*   Personal experiences with mental health disorders and treatment.\n",
        "*   Workplace factors like company size, tech industry, and remote work."
      ],
      "id": "6c533134"
    },
    {
      "cell_type": "code",
      "source": [
        "# Visualise the results\n",
        "print(\"CREATING VISUALIZATIONS FOR MENTAL HEALTH FACTORS\")\n",
        "print(\"=\"*50)\n",
        "\n",
        "# Set up plotting parameters\n",
        "import matplotlib.pyplot as plt\n",
        "import seaborn as sns\n",
        "\n",
        "plt.style.use('seaborn-v0_8-whitegrid') # Using a seaborn style for better aesthetics\n",
        "plt.rcParams['figure.figsize'] = (12, 8)\n",
        "plt.rcParams['font.size'] = 10\n",
        "\n",
        "# Based on the cross-tabulations, let's visualize some key relationships.\n",
        "# We will use the 'df_attitudes' DataFrame and the defined attitude and factor columns.\n",
        "\n",
        "# Example Visualization 1: Comfort discussing with coworkers by Company Size\n",
        "print(\"\\nVisualizing: Comfort discussing with coworkers by Company Size\")\n",
        "company_size_attitude = df_attitudes.groupby('How many employees does your company or organization have?')['Would you feel comfortable discussing a mental health disorder with your coworkers?'].value_counts(normalize=True).unstack()\n",
        "company_size_attitude.plot(kind='bar', stacked=True, figsize=(12, 7))\n",
        "plt.title('Comfort Discussing Mental Health with Coworkers by Company Size')\n",
        "plt.xlabel('Company Size')\n",
        "plt.ylabel('Proportion')\n",
        "plt.xticks(rotation=45, ha='right')\n",
        "plt.legend(title='Comfort Level', bbox_to_anchor=(1.05, 1), loc='upper left')\n",
        "plt.tight_layout()\n",
        "plt.show()\n",
        "\n",
        "# Example Visualization 2: Comfort discussing with coworkers by Tech Company Status\n",
        "print(\"\\nVisualizing: Comfort discussing with coworkers by Tech Company Status\")\n",
        "tech_company_attitude = df_attitudes.groupby('Is your employer primarily a tech company/organization?')['Would you feel comfortable discussing a mental health disorder with your coworkers?'].value_counts(normalize=True).unstack()\n",
        "tech_company_attitude.plot(kind='bar', stacked=True, figsize=(8, 6))\n",
        "plt.title('Comfort Discussing Mental Health with Coworkers by Tech Company Status')\n",
        "plt.xlabel('Is Tech Company?')\n",
        "plt.ylabel('Proportion')\n",
        "plt.xticks(rotation=0, ha='center')\n",
        "plt.legend(title='Comfort Level', bbox_to_anchor=(1.05, 1), loc='upper left')\n",
        "plt.tight_layout()\n",
        "plt.show()\n",
        "\n",
        "\n",
        "# You can add more visualizations here based on other factor-attitude relationships\n",
        "# that you found significant in the cross-tabulation step.\n",
        "# For instance:\n",
        "# - Comfort discussing with supervisors by Remote Work Status\n",
        "# - Feeling employer takes mental health seriously by Company Size\n",
        "# - Perceived negative consequences by Gender"
      ],
      "metadata": {
        "id": "0S5zY-1NY_eB"
      },
      "id": "0S5zY-1NY_eB",
      "execution_count": null,
      "outputs": []
    },
    {
      "cell_type": "code",
      "source": [],
      "metadata": {
        "id": "VOThxTyzb314"
      },
      "id": "VOThxTyzb314",
      "execution_count": null,
      "outputs": []
    },
    {
      "cell_type": "code",
      "metadata": {
        "id": "cac672b2"
      },
      "source": [
        "# Visualizing Workplace Support Factors\n",
        "\n",
        "print(\"\\nVisualizing Workplace Support Factors:\")\n",
        "print(\"=\"*50)\n",
        "\n",
        "# Identify relevant workplace support columns using actual names from df_attitudes\n",
        "workplace_support_cols = [\n",
        "    'Does your employer provide mental health benefits as part of healthcare coverage?',\n",
        "    'Do you know the options for mental health care available under your employer-provided coverage?',\n",
        "    'Has your employer ever formally discussed mental health (for example, as part of a wellness campaign or other official communication)?',\n",
        "    'Does your employer offer resources to learn more about mental health concerns and options for seeking help?',\n",
        "    'Is your anonymity protected if you choose to take advantage of mental health or substance abuse treatment resources provided by your employer?',\n",
        "    'Do you feel that your employer takes mental health as seriously as physical health?'\n",
        "]\n",
        "\n",
        "# Create subplots for each workplace support factor for clarity\n",
        "fig, axes = plt.subplots(nrows=len(workplace_support_cols), ncols=1, figsize=(10, 5 * len(workplace_support_cols)))\n",
        "fig.suptitle('Distribution of Responses for Workplace Mental Health Support Factors', fontsize=16, fontweight='bold', y=1.02)\n",
        "\n",
        "axes = axes.flatten() # Flatten the axes array for easy iteration\n",
        "\n",
        "for i, col in enumerate(workplace_support_cols):\n",
        "    ax = axes[i]\n",
        "    if col in df_attitudes.columns:\n",
        "        print(f\"\\nVisualizing: {col}\")\n",
        "        # Get value counts, including NaN, for this column\n",
        "        counts = df_attitudes[col].value_counts(dropna=False)\n",
        "\n",
        "        # Create a bar chart for the distribution\n",
        "        counts.plot(kind='bar', ax=ax, color=plt.cm.Paired(i / len(workplace_support_cols))) # Use colormap for variety\n",
        "        ax.set_title(col, fontweight='bold', fontsize=12)\n",
        "        ax.set_ylabel('Count')\n",
        "        ax.tick_params(axis='x', rotation=45) # Removed ha='right'\n",
        "        ax.grid(axis='y', alpha=0.3)\n",
        "\n",
        "        # Add value labels on top of bars\n",
        "        for container in ax.containers:\n",
        "            ax.bar_label(container, fmt='%d', label_type='edge')\n",
        "\n",
        "    else:\n",
        "        ax.text(0.5, 0.5, f'Column not found:\\\\n{col}', horizontalalignment='center', verticalalignment='center', transform=ax.transAxes)\n",
        "        ax.set_title(col + \" (Column Not Found)\")\n",
        "        ax.axis('off') # Turn off axis if column not found\n",
        "\n",
        "plt.tight_layout()\n",
        "plt.show()\n",
        "\n",
        "print(\"\\nWorkplace support factors visualization completed.\")"
      ],
      "id": "cac672b2",
      "execution_count": null,
      "outputs": []
    },
    {
      "cell_type": "code",
      "metadata": {
        "id": "98a6d037"
      },
      "source": [
        "# Create visualizations for factor category comparison\n",
        "\n",
        "print(\"\\nVisualizing Factor Categories:\")\n",
        "print(\"=\"*50)\n",
        "\n",
        "# Define logical factor categories using actual column names from df_attitudes\n",
        "factor_categories_cols = {\n",
        "    'Workplace Factors': [\n",
        "        'How many employees does your company or organization have?',\n",
        "        'Is your employer primarily a tech company/organization?',\n",
        "        'Is your primary role within your company related to tech/IT?',\n",
        "        'Do you work remotely?'\n",
        "    ],\n",
        "    'Personal Factors': [\n",
        "        'What is your age?',\n",
        "        'What is your gender?',\n",
        "        'Do you have a family history of mental illness?',\n",
        "        'Have you had a mental health disorder in the past?',\n",
        "        'Do you currently have a mental health disorder?',\n",
        "        'Have you been diagnosed with a mental health condition by a medical professional?'\n",
        "    ],\n",
        "    'Geographic Factors': [\n",
        "        'What country do you live in?',\n",
        "        'What country do you work in?'\n",
        "    ]\n",
        "}\n",
        "\n",
        "# Create subplots for each category\n",
        "fig, axes = plt.subplots(nrows=len(factor_categories_cols), ncols=1, figsize=(10, 6 * len(factor_categories_cols)))\n",
        "fig.suptitle('Distribution of Responses by Factor Category', fontsize=16, fontweight='bold', y=1.02)\n",
        "\n",
        "axes = axes.flatten() # Flatten the axes array for easy iteration\n",
        "\n",
        "for i, (category, columns) in enumerate(factor_categories_cols.items()):\n",
        "    ax = axes[i]\n",
        "    print(f\"\\nVisualizing: {category}\")\n",
        "\n",
        "    # Concatenate value counts for columns in the category for a single plot\n",
        "    category_counts = pd.DataFrame()\n",
        "    for col in columns:\n",
        "        if col in df_attitudes.columns:\n",
        "            # Get value counts as percentages, dropping NaN for plotting clarity in this context\n",
        "            counts = df_attitudes[col].value_counts(normalize=True).mul(100).round(1)\n",
        "            counts.name = col # Rename the series to the column name\n",
        "            category_counts = pd.concat([category_counts, counts], axis=1)\n",
        "            print(f\"- Added '{col}' to {category} visualization data\")\n",
        "        else:\n",
        "            print(f\"- Column not found in df_attitudes: {col}\")\n",
        "\n",
        "    if not category_counts.empty:\n",
        "        # Plot as a grouped bar chart or similar depending on the data types and number of unique values\n",
        "        # For simplicity, let's transpose and plot as a bar chart\n",
        "        category_counts.T.plot(kind='bar', stacked=False, ax=ax) # Use stacked=True if appropriate\n",
        "\n",
        "        ax.set_title(category, fontweight='bold')\n",
        "        ax.set_ylabel('Percentage (%)')\n",
        "        ax.tick_params(axis='x', rotation=45) # Removed ha='right'\n",
        "        ax.legend(title='Response', bbox_to_anchor=(1.05, 1), loc='upper left')\n",
        "        ax.grid(axis='y', alpha=0.3)\n",
        "    else:\n",
        "        ax.text(0.5, 0.5, 'No data available for this category', horizontalalignment='center', verticalalignment='center', transform=ax.transAxes)\n",
        "        ax.set_title(category + \" (No Data)\")\n",
        "        ax.axis('off') # Turn off axis if no data\n",
        "\n",
        "plt.tight_layout()\n",
        "plt.show()\n",
        "\n",
        "print(\"\\nFactor category visualization completed.\")"
      ],
      "id": "98a6d037",
      "execution_count": null,
      "outputs": []
    },
    {
      "cell_type": "code",
      "metadata": {
        "id": "68d2a992"
      },
      "source": [
        "# Identify columns to apply the cleaning function to (assuming they contain Yes/No/Maybe/0/1 responses)\n",
        "# You may need to adjust this list based on your dataset's specific columns.\n",
        "# Based on the column names printed earlier, here's a potential list:\n",
        "columns_to_clean = [\n",
        "    'Are you self-employed?',\n",
        "    'Is your employer primarily a tech company/organization?',\n",
        "    'Is your primary role within your company related to tech/IT?',\n",
        "    'Does your employer provide mental health benefits as part of healthcare coverage?',\n",
        "    'Do you know the options for mental health care available under your employer-provided coverage?',\n",
        "    'Has your employer ever formally discussed mental health (for example, as part of a wellness campaign or other official communication)?',\n",
        "    'Does your employer offer resources to learn more about mental health concerns and options for seeking help?',\n",
        "    'Is your anonymity protected if you choose to take advantage of mental health or substance abuse treatment resources provided by your employer?',\n",
        "    'Do you think that discussing a mental health disorder with your employer would have negative consequences?',\n",
        "    'Do you think that discussing a physical health issue with your employer would have negative consequences?',\n",
        "    'Would you feel comfortable discussing a mental health disorder with your coworkers?',\n",
        "    'Would you feel comfortable discussing a mental health disorder with your direct supervisor(s)?',\n",
        "    'Do you feel that your employer takes mental health as seriously as physical health?',\n",
        "    'Have you heard of or observed negative consequences for co-workers who have been open about mental health issues in your workplace?',\n",
        "    'Do you have medical coverage (private insurance or state-provided) which includes treatment of \\xa0mental health issues?',\n",
        "    'Do you know local or online resources to seek help for a mental health disorder?',\n",
        "    'If you have been diagnosed or treated for a mental health disorder, do you ever reveal this to clients or business contacts?',\n",
        "    'If you have revealed a mental health issue to a client or business contact, do you believe this has impacted you negatively?',\n",
        "    'If you have been diagnosed or treated for a mental health disorder, do you ever reveal this to coworkers or employees?',\n",
        "    'If you have revealed a mental health issue to a coworker or employee, do you believe this has impacted you negatively?',\n",
        "    'Do you believe your productivity is ever affected by a mental health issue?',\n",
        "    'Do you have previous employers?',\n",
        "    'Have your previous employers provided mental health benefits?',\n",
        "    'Were you aware of the options for mental health care provided by your previous employers?',\n",
        "    'Did your previous employers ever formally discuss mental health (as part of a wellness campaign or other official communication)?',\n",
        "    'Did your previous employers provide resources to learn more about mental health issues and how to seek help?',\n",
        "    'Was your anonymity protected if you chose to take advantage of mental health or substance abuse treatment resources with previous employers?',\n",
        "    'Do you think that discussing a mental health disorder with previous employers would have negative consequences?',\n",
        "    'Do you think that discussing a physical health issue with previous employers would have negative consequences?',\n",
        "    'Would you have been willing to discuss a mental health issue with your previous co-workers?',\n",
        "    'Would you have been willing to discuss a mental health issue with your direct supervisor(s)?',\n",
        "    'Did you feel that your previous employers took mental health as seriously as physical health?',\n",
        "    'Did you hear of or observe negative consequences for co-workers with mental health issues in your previous workplaces?',\n",
        "    'Would you be willing to bring up a physical health issue with a potential employer in an interview?',\n",
        "    'Would you bring up a mental health issue with a potential employer in an interview?',\n",
        "    'Do you feel that being identified as a person with a mental health issue would hurt your career?',\n",
        "    'Do you think that team members/co-workers would view you more negatively if they knew you suffered from a mental health issue?',\n",
        "    'How willing would you be to share with friends and family that you have a mental illness?',\n",
        "    'Have you observed or experienced an unsupportive or badly handled response to a mental health issue in your current or previous workplace?',\n",
        "    'Have your observations of how another individual who discussed a mental health disorder made you less likely to reveal a mental health issue yourself in your current workplace?',\n",
        "    'Do you have a family history of mental illness?',\n",
        "    'Have you had a mental health disorder in the past?',\n",
        "    'Do you currently have a mental health disorder?',\n",
        "    'Have you been diagnosed with a mental health condition by a medical professional?',\n",
        "    'If you have a mental health issue, do you feel that it interferes with your work when being treated effectively?',\n",
        "    'If you have a mental health issue, do you feel that it interferes with your work when NOT being treated effectively?',\n",
        "    'Do you work remotely?' # Assuming this might have Yes/No/Sometimes responses\n",
        "]\n",
        "\n",
        "for col in columns_to_clean:\n",
        "    if col in df.columns:\n",
        "        # Apply the clean_responses function\n",
        "        df[col] = df[col].apply(clean_responses)\n",
        "        print(f\"Applied cleaning to column: {col}\")\n",
        "    else:\n",
        "        print(f\"Column not found: {col}\")\n",
        "\n",
        "\n",
        "# Display the first few rows to see the changes\n",
        "display(df.head())"
      ],
      "id": "68d2a992",
      "execution_count": null,
      "outputs": []
    },
    {
      "cell_type": "markdown",
      "metadata": {
        "id": "d9826940"
      },
      "source": [
        "## Step 1 — Load the dataset"
      ],
      "id": "d9826940"
    },
    {
      "cell_type": "markdown",
      "metadata": {
        "id": "a96a2d05"
      },
      "source": [
        "# IFQ619 Assignment 1 – Part A & B\n",
        "**Name:** Ramandeep Kaur  \n",
        "**Student ID:** 1264246  \n",
        "\n",
        "---\n",
        "\n",
        "This notebook contains both **Part A (Computational processing & basic techniques)** and **Part B (QDAVI cycle: Investigation & Narrative)** for the OSMI 2016 dataset.\n",
        "\n",
        "---"
      ],
      "id": "a96a2d05"
    },
    {
      "cell_type": "markdown",
      "metadata": {
        "id": "bbc76bdb"
      },
      "source": [
        "# Task\n",
        "Analyze the provided \"osmi_2016.csv\" dataset to identify which factors are most common for team member attitudes about mental health in the tech sector, using data cleaning and aggregation techniques."
      ],
      "id": "bbc76bdb"
    },
    {
      "cell_type": "markdown",
      "metadata": {
        "id": "b7b5eb07"
      },
      "source": [
        "## Identify key attitude and factor columns\n",
        "\n",
        "### Subtask:\n",
        "Clearly define which columns represent attitudes and which represent potential influencing factors from the `df_attitudes` DataFrame.\n"
      ],
      "id": "b7b5eb07"
    },
    {
      "cell_type": "markdown",
      "metadata": {
        "id": "a47ca283"
      },
      "source": [
        "**Reasoning**:\n",
        "I will examine the column names in `df_attitudes` and create two lists, `attitude_cols` and `factor_cols`, based on their content, then print these lists.\n",
        "\n"
      ],
      "id": "a47ca283"
    },
    {
      "cell_type": "markdown",
      "metadata": {
        "id": "276f735b"
      },
      "source": [
        "## Analyze distribution of attitudes\n",
        "\n",
        "### Subtask:\n",
        "Calculate and summarize the frequency of responses for the key attitude questions to identify the most common attitudes.\n"
      ],
      "id": "276f735b"
    },
    {
      "cell_type": "markdown",
      "metadata": {
        "id": "5453bd69"
      },
      "source": [
        "**Reasoning**:\n",
        "Calculate and print the frequency distribution for each attitude question, including missing values.\n",
        "\n"
      ],
      "id": "5453bd69"
    },
    {
      "cell_type": "markdown",
      "metadata": {
        "id": "92792c28"
      },
      "source": [
        "## Analyze relationship between factors and attitudes\n",
        "\n",
        "### Subtask:\n",
        "Perform cross-tabulations or grouped analyses to see how the distribution of responses to attitude questions varies based on different factors (e.g., company size, tech company status, gender, etc.).\n"
      ],
      "id": "92792c28"
    },
    {
      "cell_type": "markdown",
      "metadata": {
        "id": "392882b8"
      },
      "source": [
        "**Reasoning**:\n",
        "Perform cross-tabulations between each factor column and each attitude column to analyze how attitudes vary based on different factors.\n",
        "\n"
      ],
      "id": "392882b8"
    },
    {
      "cell_type": "markdown",
      "metadata": {
        "id": "d4b43e0a"
      },
      "source": [
        "## Summarize findings\n",
        "\n",
        "### Subtask:\n",
        "Based on the analysis, identify which factors appear to be most strongly associated with particular attitudes about mental health in the tech sector.\n"
      ],
      "id": "d4b43e0a"
    },
    {
      "cell_type": "markdown",
      "metadata": {
        "id": "fd8e434a"
      },
      "source": [
        "**Reasoning**:\n",
        "Review the cross-tabulation outputs to identify factors with the most noticeable variations in attitude distributions and summarize the findings.\n",
        "\n"
      ],
      "id": "fd8e434a"
    },
    {
      "cell_type": "markdown",
      "metadata": {
        "id": "b179e258"
      },
      "source": [
        "### 1.5 Insight\n",
        "\n",
        "**Key Insights: Most Common Factors Affecting Mental Health Attitudes in Tech**\n",
        "\n",
        "Based on my comprehensive analysis of the OSMI 2016 dataset, I have identified several critical factors that most commonly influence team member attitudes about mental health in the technology sector:\n",
        "\n",
        "**1. Support System Availability and Awareness**\n",
        "- Mental health benefits availability shows significant variation across tech organizations\n",
        "- Knowledge of care options is often limited, indicating a communication gap\n",
        "- Wellness programs and help-seeking resources are inconsistently available\n",
        "- **Key Finding**: The most common factor is the disconnect between available support and employee awareness\n",
        "\n",
        "**2. Workplace Disclosure Patterns**\n",
        "- Comfort levels for discussing mental health vary significantly between supervisors and coworkers\n",
        "- Team members generally show more willingness to discuss with peers than management\n",
        "- **Key Finding**: Hierarchical relationships create barriers to open mental health communication\n",
        "\n",
        "**3. Consequence Perceptions**\n",
        "- Fear of negative consequences remains a dominant factor affecting attitudes\n",
        "- Mental health issues are perceived as carrying higher workplace risks than physical health issues\n",
        "- **Key Finding**: Stigma and fear of professional repercussions are among the most common attitude-shaping factors\n",
        "\n",
        "**4. Treatment and Work Interference**\n",
        "- Treatment-seeking behavior is influenced by perceived work impact\n",
        "- Family history plays a role in attitudes toward mental health discussions\n",
        "- **Key Finding**: Workplace culture significantly influences individual help-seeking decisions\n",
        "\n",
        "**Overall Conclusion:**\n",
        "The most common factors"
      ],
      "id": "b179e258"
    },
    {
      "cell_type": "code",
      "source": [],
      "metadata": {
        "id": "kPaWhre3b6iT"
      },
      "id": "kPaWhre3b6iT",
      "execution_count": null,
      "outputs": []
    }
  ],
  "metadata": {
    "colab": {
      "provenance": [],
      "include_colab_link": true
    },
    "language_info": {
      "name": "python"
    },
    "kernelspec": {
      "name": "python3",
      "display_name": "Python 3"
    }
  },
  "nbformat": 4,
  "nbformat_minor": 5
}